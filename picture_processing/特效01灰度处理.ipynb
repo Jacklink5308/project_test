{
 "cells": [
  {
   "cell_type": "code",
   "execution_count": 2,
   "metadata": {},
   "outputs": [
    {
     "name": "stdout",
     "output_type": "stream",
     "text": [
      "(768, 1366)\n",
      "(768, 1366, 3)\n"
     ]
    }
   ],
   "source": [
    "#imread方法\n",
    "#方法一   imread\n",
    "import cv2\n",
    "img0=cv2.imread('buty01.jpg',0)\n",
    "img1=cv2.imread('buty01.jpg',1)\n",
    "print(img0.shape)\n",
    "print(img1.shape)"
   ]
  },
  {
   "cell_type": "code",
   "execution_count": null,
   "metadata": {},
   "outputs": [],
   "source": [
    "#方法二  颜色转换函数\n",
    "import cv2\n",
    "img=cv2.imread('buty01.jpg',1)\n",
    "dst=cv2.cvtColor(img,cv2.COLOR_BGR2GRAY)# 颜色空间转换 1 data  2 BGR gray\n",
    "cv2.imshow('dst',dst)\n",
    "cv2.waitKey(0)"
   ]
  },
  {
   "cell_type": "code",
   "execution_count": null,
   "metadata": {},
   "outputs": [],
   "source": [
    "#方法3  rgb均值\n",
    "import cv2\n",
    "import numpy as np\n",
    "img = cv2.imread('buty01.jpg',1)\n",
    "imginfo = img.shape\n",
    "height=imginfo[0]\n",
    "width=imginfo[1]\n",
    "#rgb  R=G=B=gray\n",
    "dst=np.zeros((height,width,3),np.uint8)\n",
    "for i in range(0,height):\n",
    "    for j in range(0,width):\n",
    "        (b,g,r)=img[i,j]\n",
    "        gray=(int(b)+int(g)+int(r))/3\n",
    "        dst[i,j]=np.uint8(gray)\n",
    "cv2.imshow('dst',dst)\n",
    "cv2.waitKey(0)"
   ]
  },
  {
   "cell_type": "code",
   "execution_count": null,
   "metadata": {},
   "outputs": [],
   "source": [
    "#方法4  公式 gray=r*0.299+g*0.587+b*0.114\n",
    "import cv2\n",
    "import numpy as np\n",
    "img = cv2.imread('buty01.jpg',1)\n",
    "imginfo = img.shape\n",
    "height=imginfo[0]\n",
    "width=imginfo[1]\n",
    "dst=np.zeros((height,width,3),np.uint8)\n",
    "for i in range(0,height):\n",
    "    for j in range(0,width):\n",
    "        (b,g,r) = img[i,j]\n",
    "        b=int(b)\n",
    "        g=int(g)\n",
    "        b=int(b)\n",
    "        gray=r*0.299 + g*0.587 + b*0.114\n",
    "        dst[i,j]=np.uint8(gray)\n",
    "cv2.imshow('dst',dst)\n",
    "cv2.waitKey(0)"
   ]
  }
 ],
 "metadata": {
  "kernelspec": {
   "display_name": "Python 3",
   "language": "python",
   "name": "python3"
  },
  "language_info": {
   "codemirror_mode": {
    "name": "ipython",
    "version": 3
   },
   "file_extension": ".py",
   "mimetype": "text/x-python",
   "name": "python",
   "nbconvert_exporter": "python",
   "pygments_lexer": "ipython3",
   "version": "3.7.3"
  }
 },
 "nbformat": 4,
 "nbformat_minor": 2
}
