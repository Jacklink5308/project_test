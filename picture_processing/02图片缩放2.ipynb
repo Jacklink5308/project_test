{
 "cells": [
  {
   "cell_type": "code",
   "execution_count": null,
   "metadata": {},
   "outputs": [],
   "source": [
    "#1 info  2 空白模板  3 xy\n",
    "import cv2\n",
    "import numpy as np\n",
    "img = cv2.imread('buty01.jpg',1)\n",
    "imginfo=img.shape\n",
    "height=imginfo[0]\n",
    "width=imginfo[1]\n",
    "dstheight=int(height/2)\n",
    "dstwidth=int(width/2)\n",
    "dstimage=np.zeros((dstheight,dstwidth,3),np.uint8)\n",
    "for i in range(0,dstheight):\n",
    "    for j in range(0,dstwidth):\n",
    "        inew=int(i*(height*1.0/dstheight))\n",
    "        jnew=int(j*(width*1.0/dstwidth))\n",
    "        dstimage[i,j]=img[inew,jnew]\n",
    "cv2.imshow('dst',dstimage)\n",
    "cv2.waitKey(0)"
   ]
  }
 ],
 "metadata": {
  "kernelspec": {
   "display_name": "Python 3",
   "language": "python",
   "name": "python3"
  },
  "language_info": {
   "codemirror_mode": {
    "name": "ipython",
    "version": 3
   },
   "file_extension": ".py",
   "mimetype": "text/x-python",
   "name": "python",
   "nbconvert_exporter": "python",
   "pygments_lexer": "ipython3",
   "version": "3.7.3"
  }
 },
 "nbformat": 4,
 "nbformat_minor": 2
}
