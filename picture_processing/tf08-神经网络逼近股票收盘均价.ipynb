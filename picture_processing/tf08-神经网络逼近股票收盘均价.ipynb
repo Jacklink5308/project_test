{
 "cells": [
  {
   "cell_type": "code",
   "execution_count": 8,
   "metadata": {},
   "outputs": [
    {
     "name": "stdout",
     "output_type": "stream",
     "text": [
      "[1. 2. 3. 4. 5. 6. 7.]\n"
     ]
    },
    {
     "data": {
      "image/png": "[encoded data removed]",
      "text/plain": [
       "<Figure size 432x288 with 1 Axes>"
      ]
     },
     "metadata": {
      "needs_background": "light"
     },
     "output_type": "display_data"
    }
   ],
   "source": [
    "import tensorflow as tf\n",
    "import numpy as np\n",
    "import matplotlib.pyplot as plt\n",
    "date = np.linspace(1,7,7)\n",
    "endprice = np.array([2511.89,2538.64,2510.00,2591.21,2732.01,2700.86,2715.44])\n",
    "beginprice = np.array([2495.17,2500.12,2534.55,2512.55,2597.41,2741.20,2735.21])\n",
    "print(date)\n",
    "plt.figure()\n",
    "for i in range(0,7):\n",
    "    #柱状\n",
    "    dataone = np.zeros([2])\n",
    "    dataone[0]=i\n",
    "    dataone[1]=i\n",
    "    priceone = np.zeros([2])\n",
    "    priceone[0]=beginprice[i]\n",
    "    priceone[1]=endprice[i]\n",
    "    if endprice[i]>beginprice[i]:\n",
    "        plt.plot(dataone,priceone,'r',lw=8)\n",
    "    else:\n",
    "        plt.plot(dataone,priceone,'g',lw=8)\n",
    "#plt.show()\n",
    "datenormal=np.zeros([7,1])\n",
    "pricenormal=np.zeros([7,1])\n",
    "for i in range(0,7):\n",
    "    datenormal[i,0]=i/6.0\n",
    "    pricenormal[i,0]=endprice[i]/3000\n",
    "x=tf.placeholder(tf.float32,[None,1])\n",
    "y=tf.placeholder(tf.float32,[None,1])\n",
    "#B\n",
    "w1=tf.Variable(tf.random_uniform([1,10],0,1))\n",
    "b1=tf.Variable(tf.zeros([1,10]))\n",
    "wb1=tf.matmul(x,w1)+b1\n",
    "layer1=tf.nn.relu(wb1)  #激励函数\n",
    "#C\n",
    "w2=tf.Variable(tf.random_uniform([10,1],0,1))\n",
    "b2=tf.Variable(tf.zeros([7,1]))\n",
    "wb2=tf.matmul(layer1,w2)+b2\n",
    "layer2=tf.nn.relu(wb2)\n",
    "loss=tf.reduce_mean(tf.square(y-layer2))\n",
    "train_step=tf.train.GradientDescentOptimizer(0.1).minimize(loss)\n",
    "with tf.Session() as sess:\n",
    "    sess.run(tf.global_variables_initializer())\n",
    "    for i in range(0,10000):\n",
    "        sess.run(train_step,feed_dict={x:datenormal,y:pricenormal})\n",
    "    pred=sess.run(layer2,feed_dict={x:datenormal})\n",
    "    predprice=np.zeros([7,1])\n",
    "    for i in range(0,7):\n",
    "        predprice[i,0]=(pred*3000)[i,0]\n",
    "    plt.plot(date,predprice,'b',lw=1)\n",
    "plt.show()"
   ]
  },
  {
   "cell_type": "code",
   "execution_count": null,
   "metadata": {},
   "outputs": [],
   "source": []
  }
 ],
 "metadata": {
  "kernelspec": {
   "display_name": "Python 3",
   "language": "python",
   "name": "python3"
  },
  "language_info": {
   "codemirror_mode": {
    "name": "ipython",
    "version": 3
   },
   "file_extension": ".py",
   "mimetype": "text/x-python",
   "name": "python",
   "nbconvert_exporter": "python",
   "pygments_lexer": "ipython3",
   "version": "3.7.3"
  }
 },
 "nbformat": 4,
 "nbformat_minor": 2
}
