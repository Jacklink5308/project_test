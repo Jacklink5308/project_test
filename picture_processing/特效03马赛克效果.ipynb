{
 "cells": [
  {
   "cell_type": "code",
   "execution_count": null,
   "metadata": {},
   "outputs": [],
   "source": [
    "import cv2\n",
    "import numpy as np\n",
    "img = cv2.imread('buty01.jpg',1)\n",
    "imginfo=img.shape\n",
    "height=imginfo[0]\n",
    "width=imginfo[1]\n",
    "for m in range(250,550):\n",
    "    for n in range(600,900):\n",
    "        #pixel -> 10*10\n",
    "        if m%20== 0 and n%20 ==0 :\n",
    "            for i in range(0,20):\n",
    "                for j in range(0,20):\n",
    "                    (b,g,r)=img[m,n]\n",
    "                    img[i+m,j+n]=(b,g,r)\n",
    "cv2.imshow('dst',img)\n",
    "cv2.waitKey(0)"
   ]
  }
 ],
 "metadata": {
  "kernelspec": {
   "display_name": "Python 3",
   "language": "python",
   "name": "python3"
  },
  "language_info": {
   "codemirror_mode": {
    "name": "ipython",
    "version": 3
   },
   "file_extension": ".py",
   "mimetype": "text/x-python",
   "name": "python",
   "nbconvert_exporter": "python",
   "pygments_lexer": "ipython3",
   "version": "3.7.3"
  }
 },
 "nbformat": 4,
 "nbformat_minor": 2
}
