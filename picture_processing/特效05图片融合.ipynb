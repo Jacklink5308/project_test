{
 "cells": [
  {
   "cell_type": "code",
   "execution_count": null,
   "metadata": {},
   "outputs": [
    {
     "name": "stdout",
     "output_type": "stream",
     "text": [
      "(768, 1366, 3)\n",
      "++++\n",
      "(611, 550, 3)\n"
     ]
    }
   ],
   "source": [
    "import cv2\n",
    "import numpy as np\n",
    "#  dst=src1*a + src2*(1-a)\n",
    "img0=cv2.imread('buty01.jpg',1)\n",
    "img1=cv2.imread('kongfu-panda.jpg',1)\n",
    "imginfo=img0.shape\n",
    "height=imginfo[0]\n",
    "width=imginfo[1]\n",
    "print(imginfo)\n",
    "print('++++')\n",
    "print(img1.shape)\n",
    "#ROI（感兴趣区域）\n",
    "roih=int(height/3)\n",
    "roiw=int(width/3)\n",
    "img0roi=img0[0:roih,500:500+roiw]\n",
    "img1roi=img1[0:roih,0:roiw]\n",
    "#dst\n",
    "dst=np.zeros((roih,roiw,3),np.uint8)\n",
    "dst=cv2.addWeighted(img0roi,0.5,img1roi,0.5,0)  #add  src1*a+src2*(1-a)\n",
    "#1 src1  2 a  3 src2  4 1-a\n",
    "cv2.imshow('img0',img0)\n",
    "cv2.imshow('img1',img1)\n",
    "cv2.imshow('dst',dst)\n",
    "cv2.waitKey(0)"
   ]
  }
 ],
 "metadata": {
  "kernelspec": {
   "display_name": "Python 3",
   "language": "python",
   "name": "python3"
  },
  "language_info": {
   "codemirror_mode": {
    "name": "ipython",
    "version": 3
   },
   "file_extension": ".py",
   "mimetype": "text/x-python",
   "name": "python",
   "nbconvert_exporter": "python",
   "pygments_lexer": "ipython3",
   "version": "3.7.3"
  }
 },
 "nbformat": 4,
 "nbformat_minor": 2
}
