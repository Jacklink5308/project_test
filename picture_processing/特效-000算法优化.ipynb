{
 "cells": [
  {
   "cell_type": "code",
   "execution_count": null,
   "metadata": {},
   "outputs": [],
   "source": [
    "#1 灰度   2 基础（边缘检测·人脸识别·）   3 实时性（运算效率）\n",
    "#定点  》 浮点  》 + -   》  */    》 >> \n",
    "#r*0.299+g*0.587+b*0.114\n",
    "import cv2\n",
    "import numpy as np\n",
    "img = cv2.imread('buty01.jpg',1)\n",
    "imginfo=img.shape\n",
    "height=imginfo[0]\n",
    "width=imginfo[1]\n",
    "#rgb  r=g=b=gray    (r+g+b)/3\n",
    "dst=np.zeros((height,width,3),np.uint8)\n",
    "for i in range(0,height):\n",
    "    for j in range(0,width):\n",
    "        (b,g,r)=img[i,j]\n",
    "        b=int(b)\n",
    "        g=int(g)\n",
    "        b=int(b)\n",
    "        #gray=r*0.299+g*0.587+b*0.114\n",
    "        #gray=(r*1+g*2+b*1)/4   #只是近似，可以参数全乘1000，精度高\n",
    "        gray=(r+(g<<1)+b)>>2\n",
    "        dst[i,j]=np.uint8(gray)\n",
    "cv2.imshow('dst',dst)\n",
    "cv2.waitKey(0)"
   ]
  }
 ],
 "metadata": {
  "kernelspec": {
   "display_name": "Python 3",
   "language": "python",
   "name": "python3"
  },
  "language_info": {
   "codemirror_mode": {
    "name": "ipython",
    "version": 3
   },
   "file_extension": ".py",
   "mimetype": "text/x-python",
   "name": "python",
   "nbconvert_exporter": "python",
   "pygments_lexer": "ipython3",
   "version": "3.7.3"
  }
 },
 "nbformat": 4,
 "nbformat_minor": 2
}
