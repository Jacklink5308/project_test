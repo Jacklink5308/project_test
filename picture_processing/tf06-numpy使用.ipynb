{
 "cells": [
  {
   "cell_type": "code",
   "execution_count": 1,
   "metadata": {},
   "outputs": [
    {
     "name": "stdout",
     "output_type": "stream",
     "text": [
      "[1 2 3 4 5]\n",
      "[[1 2]\n",
      " [3 4]]\n",
      "(5,) (2, 2)\n"
     ]
    }
   ],
   "source": [
    "import numpy as np\n",
    "data1 = np.array([1,2,3,4,5])\n",
    "print(data1)\n",
    "data2 = np.array([[1,2],\n",
    "                 [3,4]])\n",
    "print(data2)\n",
    "print(data1.shape,data2.shape)"
   ]
  }
 ],
 "metadata": {
  "kernelspec": {
   "display_name": "Python 3",
   "language": "python",
   "name": "python3"
  },
  "language_info": {
   "codemirror_mode": {
    "name": "ipython",
    "version": 3
   },
   "file_extension": ".py",
   "mimetype": "text/x-python",
   "name": "python",
   "nbconvert_exporter": "python",
   "pygments_lexer": "ipython3",
   "version": "3.7.3"
  }
 },
 "nbformat": 4,
 "nbformat_minor": 2
}
