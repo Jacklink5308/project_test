{
 "cells": [
  {
   "cell_type": "code",
   "execution_count": 3,
   "metadata": {},
   "outputs": [
    {
     "data": {
      "text/plain": [
       "True"
      ]
     },
     "execution_count": 3,
     "metadata": {},
     "output_type": "execute_result"
    }
   ],
   "source": [
    "#有损压缩（jpg）----保存格式\n",
    "import cv2\n",
    "panda=cv2.imread('kongfu-panda.jpg',1)\n",
    "cv2.imwrite('panda-halfworse.jpg',panda,[cv2.IMWRITE_JPEG_QUALITY,50])#质量参数（0-100）\n"
   ]
  },
  {
   "cell_type": "code",
   "execution_count": 3,
   "metadata": {},
   "outputs": [
    {
     "data": {
      "text/plain": [
       "True"
      ]
     },
     "execution_count": 3,
     "metadata": {},
     "output_type": "execute_result"
    }
   ],
   "source": [
    "#无损压缩（png），由于透明度属性\n",
    "import cv2\n",
    "panda=cv2.imread('kongfu-panda.jpg',1)\n",
    "cv2.imwrite('panda-compression1.png',panda,[cv2.IMWRITE_PNG_COMPRESSION,1])#质量参数（0-9）\n"
   ]
  },
  {
   "cell_type": "code",
   "execution_count": null,
   "metadata": {},
   "outputs": [],
   "source": [
    "#对于jpg  0   压缩比高    质量差\n",
    "#对于png  0   压缩比低    质量高"
   ]
  }
 ],
 "metadata": {
  "kernelspec": {
   "display_name": "Python 3",
   "language": "python",
   "name": "python3"
  },
  "language_info": {
   "codemirror_mode": {
    "name": "ipython",
    "version": 3
   },
   "file_extension": ".py",
   "mimetype": "text/x-python",
   "name": "python",
   "nbconvert_exporter": "python",
   "pygments_lexer": "ipython3",
   "version": "3.7.3"
  }
 },
 "nbformat": 4,
 "nbformat_minor": 2
}
