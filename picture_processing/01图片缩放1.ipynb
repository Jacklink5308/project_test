{
 "cells": [
  {
   "cell_type": "code",
   "execution_count": null,
   "metadata": {},
   "outputs": [
    {
     "name": "stdout",
     "output_type": "stream",
     "text": [
      "(768, 1366, 3)\n"
     ]
    }
   ],
   "source": [
    "#1 load  2 info   3 resize   4 check\n",
    "import cv2\n",
    "img= cv2.imread('buty01.jpg',1)\n",
    "imageinfo=img.shape\n",
    "print(imageinfo)\n",
    "height=imageinfo[0]\n",
    "width=imageinfo[1]\n",
    "mode=imageinfo[2]\n",
    "#1 放大  缩小  2等比例  非等比例\n",
    "dstHeight=int(height*0.75)\n",
    "dstWidth=int(width*0.75)\n",
    "#最近邻域插值         双线性插值   像素关系重采样   立方插值\n",
    "dst=cv2.resize(img,(dstWidth,dstHeight))\n",
    "cv2.imshow('image',dst)\n",
    "cv2.waitKey(0)"
   ]
  },
  {
   "cell_type": "code",
   "execution_count": null,
   "metadata": {},
   "outputs": [],
   "source": [
    "#最近邻\n",
    "#尺寸  src 10*20      dst 5*10\n",
    "#dst <- src\n",
    "#(1,2)   <-  (2,4)\n",
    "#newx=x*(src 行 / 目标 行)  newx=1*(10/5)=2\n",
    "#newy=y*(src 列 / 目标 列)  newy=2*(20/10)=4\n",
    "\n",
    "#双线性插值法\n",
    "#A1=20%"
   ]
  }
 ],
 "metadata": {
  "kernelspec": {
   "display_name": "Python 3",
   "language": "python",
   "name": "python3"
  },
  "language_info": {
   "codemirror_mode": {
    "name": "ipython",
    "version": 3
   },
   "file_extension": ".py",
   "mimetype": "text/x-python",
   "name": "python",
   "nbconvert_exporter": "python",
   "pygments_lexer": "ipython3",
   "version": "3.7.3"
  }
 },
 "nbformat": 4,
 "nbformat_minor": 2
}
