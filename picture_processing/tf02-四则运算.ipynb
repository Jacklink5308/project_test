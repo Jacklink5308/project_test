{
 "cells": [
  {
   "cell_type": "code",
   "execution_count": 7,
   "metadata": {},
   "outputs": [
    {
     "name": "stdout",
     "output_type": "stream",
     "text": [
      "12\n",
      "6\n",
      "27\n",
      "3.0\n",
      "over\n"
     ]
    }
   ],
   "source": [
    "import tensorflow as tf\n",
    "data1=tf.constant(9)\n",
    "data2 = tf.constant(3)\n",
    "dataadd = tf.add(data1,data2)\n",
    "datamul = tf.multiply(data1,data2)\n",
    "datasub = tf.subtract(data1,data2)\n",
    "datadiv = tf.divide(data1,data2)\n",
    "with tf.Session() as sess:\n",
    "    print(sess.run(dataadd))\n",
    "    print(sess.run(datasub))\n",
    "    print(sess.run(datamul))\n",
    "    print(sess.run(datadiv))\n",
    "print('over')"
   ]
  },
  {
   "cell_type": "code",
   "execution_count": 10,
   "metadata": {},
   "outputs": [
    {
     "name": "stdout",
     "output_type": "stream",
     "text": [
      "12\n",
      "6\n",
      "27\n",
      "3.0\n",
      ".......\n",
      "12\n",
      "21\n",
      "30\n",
      "over\n"
     ]
    }
   ],
   "source": [
    "import tensorflow as tf\n",
    "data1=tf.constant(9)\n",
    "data2 = tf.Variable(3)\n",
    "dataadd = tf.add(data1,data2)\n",
    "datacopy = tf.assign(data2,dataadd)#将dataadd结果赋给data2\n",
    "datamul = tf.multiply(data1,data2)\n",
    "datasub = tf.subtract(data1,data2)\n",
    "datadiv = tf.divide(data1,data2)\n",
    "init = tf.global_variables_initializer()\n",
    "with tf.Session() as sess:\n",
    "    sess.run(init)\n",
    "    print(sess.run(dataadd))\n",
    "    print(sess.run(datasub))\n",
    "    print(sess.run(datamul))\n",
    "    print(sess.run(datadiv))\n",
    "    print('.......')\n",
    "    print(sess.run(datacopy))\n",
    "    print(datacopy.eval())\n",
    "    print(tf.get_default_session().run(datacopy))\n",
    "print('over')"
   ]
  }
 ],
 "metadata": {
  "kernelspec": {
   "display_name": "Python 3",
   "language": "python",
   "name": "python3"
  },
  "language_info": {
   "codemirror_mode": {
    "name": "ipython",
    "version": 3
   },
   "file_extension": ".py",
   "mimetype": "text/x-python",
   "name": "python",
   "nbconvert_exporter": "python",
   "pygments_lexer": "ipython3",
   "version": "3.7.3"
  }
 },
 "nbformat": 4,
 "nbformat_minor": 2
}
