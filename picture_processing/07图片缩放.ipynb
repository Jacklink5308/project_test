{
 "cells": [
  {
   "cell_type": "code",
   "execution_count": null,
   "metadata": {},
   "outputs": [],
   "source": [
    "#[[A1 A2 B1],[A3 A4 B2]]\n",
    "#[[A1 A2],[A3 A4]]  [[B1],[B2]]\n",
    "#newX=A1*x + A2*y + B1\n",
    "#newY=A3*x + A4*y + B2\n",
    "#x -> x*0.5  y->y*0.5\n",
    "#newx=0.5*x\n",
    "import cv2\n",
    "import numpy as np\n",
    "img = cv2.imread('buty01.jpg',1)\n",
    "cv2.imshow('src',img)\n",
    "imginfo=img.shape\n",
    "height=imginfo[0]\n",
    "width=imginfo[1]\n",
    "matscale=np.float32([[0.5,0,0],[0,0.5,0]])\n",
    "dst=cv2.warpAffine(img,matscale,(int(width/2),int(height/2)))\n",
    "cv2.imshow('dst',dst)\n",
    "cv2.waitKey(0)"
   ]
  }
 ],
 "metadata": {
  "kernelspec": {
   "display_name": "Python 3",
   "language": "python",
   "name": "python3"
  },
  "language_info": {
   "codemirror_mode": {
    "name": "ipython",
    "version": 3
   },
   "file_extension": ".py",
   "mimetype": "text/x-python",
   "name": "python",
   "nbconvert_exporter": "python",
   "pygments_lexer": "ipython3",
   "version": "3.7.3"
  }
 },
 "nbformat": 4,
 "nbformat_minor": 2
}
