{
 "cells": [
  {
   "cell_type": "code",
   "execution_count": null,
   "metadata": {},
   "outputs": [],
   "source": [
    "#\n",
    "import cv2\n",
    "import numpy as np\n",
    "import random\n",
    "img=cv2.imread('buty01.jpg',1)\n",
    "imginfo=img.shape\n",
    "height=imginfo[0]\n",
    "width=imginfo[1]\n",
    "dst=np.zeros((height,width,3),np.uint8)\n",
    "mm=8\n",
    "for i in range(0,height-mm):\n",
    "    for j in range(0,width-mm):\n",
    "        index=int(random.random()*8)   #0-8\n",
    "        (b,g,r)=img[i+index,j+index]\n",
    "        dst[i,j]=(b,g,r)\n",
    "cv2.imshow('dst',dst)\n",
    "cv2.waitKey(0)"
   ]
  },
  {
   "cell_type": "code",
   "execution_count": null,
   "metadata": {},
   "outputs": [],
   "source": []
  }
 ],
 "metadata": {
  "kernelspec": {
   "display_name": "Python 3",
   "language": "python",
   "name": "python3"
  },
  "language_info": {
   "codemirror_mode": {
    "name": "ipython",
    "version": 3
   },
   "file_extension": ".py",
   "mimetype": "text/x-python",
   "name": "python",
   "nbconvert_exporter": "python",
   "pygments_lexer": "ipython3",
   "version": "3.7.3"
  }
 },
 "nbformat": 4,
 "nbformat_minor": 2
}
